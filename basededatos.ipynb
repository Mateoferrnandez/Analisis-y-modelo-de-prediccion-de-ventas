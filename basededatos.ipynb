{
 "cells": [
  {
   "cell_type": "code",
   "execution_count": 1,
   "metadata": {},
   "outputs": [],
   "source": [
    "import pandas as pd\n"
   ]
  },
  {
   "cell_type": "code",
   "execution_count": 1,
   "metadata": {},
   "outputs": [
    {
     "name": "stdout",
     "output_type": "stream",
     "text": [
      "Collecting psycopg2\n",
      "  Downloading psycopg2-2.9.10-cp312-cp312-win_amd64.whl.metadata (5.0 kB)\n",
      "Downloading psycopg2-2.9.10-cp312-cp312-win_amd64.whl (1.2 MB)\n",
      "   ---------------------------------------- 0.0/1.2 MB ? eta -:--:--\n",
      "   ------------------------------------ --- 1.0/1.2 MB 5.6 MB/s eta 0:00:01\n",
      "   ---------------------------------------- 1.2/1.2 MB 5.2 MB/s eta 0:00:00\n",
      "Installing collected packages: psycopg2\n",
      "Successfully installed psycopg2-2.9.10\n",
      "Note: you may need to restart the kernel to use updated packages.\n"
     ]
    },
    {
     "name": "stderr",
     "output_type": "stream",
     "text": [
      "\n",
      "[notice] A new release of pip is available: 24.3.1 -> 25.0\n",
      "[notice] To update, run: python.exe -m pip install --upgrade pip\n"
     ]
    }
   ],
   "source": [
    "pip install psycopg2\n"
   ]
  },
  {
   "cell_type": "code",
   "execution_count": null,
   "metadata": {},
   "outputs": [],
   "source": [
    "import psycopg2  # Ensure the psycopg2 module is imported to use its functionalities\n",
    "\n",
    "def connect_to_database():\n",
    "    # This function establishes a connection to the PostgreSQL database using provided credentials\n",
    "    return psycopg2.connect(\n",
    "        host=\"your_host\",  # Hostname of the PostgreSQL server\n",
    "        database=\"your_database\",  # Name of the database to connect to\n",
    "        user=\"your_user\",  # Username for authentication\n",
    "        password=\"your_password\"  # Password for authentication\n",
    "    )\n"
   ]
  },
  {
   "cell_type": "code",
   "execution_count": 99,
   "metadata": {},
   "outputs": [
    {
     "data": {
      "text/html": [
       "<div>\n",
       "<style scoped>\n",
       "    .dataframe tbody tr th:only-of-type {\n",
       "        vertical-align: middle;\n",
       "    }\n",
       "\n",
       "    .dataframe tbody tr th {\n",
       "        vertical-align: top;\n",
       "    }\n",
       "\n",
       "    .dataframe thead th {\n",
       "        text-align: right;\n",
       "    }\n",
       "</style>\n",
       "<table border=\"1\" class=\"dataframe\">\n",
       "  <thead>\n",
       "    <tr style=\"text-align: right;\">\n",
       "      <th></th>\n",
       "      <th>Producto</th>\n",
       "      <th>Ventas</th>\n",
       "      <th>Categoría</th>\n",
       "    </tr>\n",
       "  </thead>\n",
       "  <tbody>\n",
       "    <tr>\n",
       "      <th>0</th>\n",
       "      <td>P0001</td>\n",
       "      <td>8336.0</td>\n",
       "      <td>GIMPAR</td>\n",
       "    </tr>\n",
       "    <tr>\n",
       "      <th>1</th>\n",
       "      <td>P0002</td>\n",
       "      <td>3575.0</td>\n",
       "      <td>GPAR</td>\n",
       "    </tr>\n",
       "    <tr>\n",
       "      <th>2</th>\n",
       "      <td>P0003</td>\n",
       "      <td>7637.0</td>\n",
       "      <td>GIMPAR</td>\n",
       "    </tr>\n",
       "    <tr>\n",
       "      <th>3</th>\n",
       "      <td>P0004</td>\n",
       "      <td>3514.0</td>\n",
       "      <td>GPAR</td>\n",
       "    </tr>\n",
       "    <tr>\n",
       "      <th>4</th>\n",
       "      <td>P0005</td>\n",
       "      <td>2099.0</td>\n",
       "      <td>GIMPAR</td>\n",
       "    </tr>\n",
       "  </tbody>\n",
       "</table>\n",
       "</div>"
      ],
      "text/plain": [
       "  Producto  Ventas Categoría\n",
       "0    P0001  8336.0    GIMPAR\n",
       "1    P0002  3575.0      GPAR\n",
       "2    P0003  7637.0    GIMPAR\n",
       "3    P0004  3514.0      GPAR\n",
       "4    P0005  2099.0    GIMPAR"
      ]
     },
     "execution_count": 99,
     "metadata": {},
     "output_type": "execute_result"
    }
   ],
   "source": [
    "import pandas as pd\n",
    "import numpy as np\n",
    "\n",
    "# Generar la columna Producto con formato de 4 dígitos\n",
    "producto = [f\"P{i:04d}\" for i in range(1, 1001)]\n",
    "\n",
    "# Generar Ventas en el rango de 1000 a 10000\n",
    "np.random.seed(2)#Permite que siempre me de los mismos datos\n",
    "ventas = np.random.randint(1000, 10001, size=1000)\n",
    "\n",
    "# Asignar Categoría según la paridad del número convertido a entero\n",
    "categoria = [\"GIMPAR\" if int(p[1:]) % 2 != 0 else \"GPAR\" for p in producto]\n",
    "#categoria = [p[1:] for p in producto]\n",
    "# Crear el DataFrame sin especificar el índice\n",
    "df = pd.DataFrame({\"Producto\": producto, \"Ventas\": ventas, \"Categoría\": categoria})\n",
    "df[\"Ventas\"]=df[\"Ventas\"].astype(float)\n",
    "# Mostrar las primeras filas\n",
    "df.head()\n",
    "\n"
   ]
  },
  {
   "cell_type": "code",
   "execution_count": 111,
   "metadata": {},
   "outputs": [],
   "source": [
    "def descuentos(row):\n",
    "    if row >= 1000 and row<1500:\n",
    "        return int(round(row-(row * 0.19),0))\n",
    "    if row >= 1500 and row<3000:\n",
    "        return int(round(row-(row * 0.20),0))\n",
    "    if row >= 3000 and row<7000:\n",
    "        return int(round(row-(row * 0.21),0))\n",
    "    if row >=7000  and row<9000:\n",
    "        return int(round(row-(row * 0.22),0))\n",
    "    if row >= 9000 :\n",
    "        return int(round(row-(row * 0.23),0))\n",
    "\n",
    "    "
   ]
  },
  {
   "cell_type": "code",
   "execution_count": 112,
   "metadata": {},
   "outputs": [
    {
     "data": {
      "text/html": [
       "<div>\n",
       "<style scoped>\n",
       "    .dataframe tbody tr th:only-of-type {\n",
       "        vertical-align: middle;\n",
       "    }\n",
       "\n",
       "    .dataframe tbody tr th {\n",
       "        vertical-align: top;\n",
       "    }\n",
       "\n",
       "    .dataframe thead th {\n",
       "        text-align: right;\n",
       "    }\n",
       "</style>\n",
       "<table border=\"1\" class=\"dataframe\">\n",
       "  <thead>\n",
       "    <tr style=\"text-align: right;\">\n",
       "      <th></th>\n",
       "      <th>Producto</th>\n",
       "      <th>Ventas</th>\n",
       "      <th>Categoría</th>\n",
       "      <th>Venta Neta</th>\n",
       "    </tr>\n",
       "  </thead>\n",
       "  <tbody>\n",
       "    <tr>\n",
       "      <th>0</th>\n",
       "      <td>P0001</td>\n",
       "      <td>8336.0</td>\n",
       "      <td>GIMPAR</td>\n",
       "      <td>6502</td>\n",
       "    </tr>\n",
       "    <tr>\n",
       "      <th>1</th>\n",
       "      <td>P0002</td>\n",
       "      <td>3575.0</td>\n",
       "      <td>GPAR</td>\n",
       "      <td>2824</td>\n",
       "    </tr>\n",
       "    <tr>\n",
       "      <th>2</th>\n",
       "      <td>P0003</td>\n",
       "      <td>7637.0</td>\n",
       "      <td>GIMPAR</td>\n",
       "      <td>5957</td>\n",
       "    </tr>\n",
       "    <tr>\n",
       "      <th>3</th>\n",
       "      <td>P0004</td>\n",
       "      <td>3514.0</td>\n",
       "      <td>GPAR</td>\n",
       "      <td>2776</td>\n",
       "    </tr>\n",
       "    <tr>\n",
       "      <th>4</th>\n",
       "      <td>P0005</td>\n",
       "      <td>2099.0</td>\n",
       "      <td>GIMPAR</td>\n",
       "      <td>1679</td>\n",
       "    </tr>\n",
       "  </tbody>\n",
       "</table>\n",
       "</div>"
      ],
      "text/plain": [
       "  Producto  Ventas Categoría  Venta Neta\n",
       "0    P0001  8336.0    GIMPAR        6502\n",
       "1    P0002  3575.0      GPAR        2824\n",
       "2    P0003  7637.0    GIMPAR        5957\n",
       "3    P0004  3514.0      GPAR        2776\n",
       "4    P0005  2099.0    GIMPAR        1679"
      ]
     },
     "execution_count": 112,
     "metadata": {},
     "output_type": "execute_result"
    }
   ],
   "source": [
    "df[\"Venta Neta\"]=df[\"Ventas\"].apply(lambda x: descuentos(x))\n",
    "df.head()\n"
   ]
  },
  {
   "cell_type": "code",
   "execution_count": 102,
   "metadata": {},
   "outputs": [],
   "source": [
    "df.to_parquet(\"ventas.parquet\", engine=\"pyarrow\", compression=\"snappy\")\n"
   ]
  },
  {
   "cell_type": "code",
   "execution_count": 104,
   "metadata": {},
   "outputs": [
    {
     "name": "stdout",
     "output_type": "stream",
     "text": [
      "<class 'pandas.core.frame.DataFrame'>\n",
      "RangeIndex: 1000 entries, 0 to 999\n",
      "Data columns (total 4 columns):\n",
      " #   Column      Non-Null Count  Dtype  \n",
      "---  ------      --------------  -----  \n",
      " 0   Producto    1000 non-null   object \n",
      " 1   Ventas      1000 non-null   float64\n",
      " 2   Categoría   1000 non-null   object \n",
      " 3   Venta Neta  1000 non-null   int64  \n",
      "dtypes: float64(1), int64(1), object(2)\n",
      "memory usage: 31.4+ KB\n"
     ]
    }
   ],
   "source": [
    "df.info()"
   ]
  },
  {
   "cell_type": "code",
   "execution_count": 87,
   "metadata": {},
   "outputs": [
    {
     "name": "stdout",
     "output_type": "stream",
     "text": [
      "   Producto  Ventas Categoría  Venta Neta\n",
      "0     P0001    8336    GIMPAR        6502\n",
      "1     P0002    3575      GPAR        2824\n",
      "2     P0003    7637    GIMPAR        5957\n",
      "3     P0004    3514      GPAR        2776\n",
      "4     P0005    2099    GIMPAR        1679\n",
      "..      ...     ...       ...         ...\n",
      "95    P0096    7791      GPAR        6077\n",
      "96    P0097    2243    GIMPAR        1794\n",
      "97    P0098    9416      GPAR        7250\n",
      "98    P0099    1049    GIMPAR         850\n",
      "99    P0100    1296      GPAR        1050\n",
      "\n",
      "[100 rows x 4 columns]\n"
     ]
    }
   ],
   "source": [
    "print(df.head(100))"
   ]
  }
 ],
 "metadata": {
  "kernelspec": {
   "display_name": "base",
   "language": "python",
   "name": "python3"
  },
  "language_info": {
   "codemirror_mode": {
    "name": "ipython",
    "version": 3
   },
   "file_extension": ".py",
   "mimetype": "text/x-python",
   "name": "python",
   "nbconvert_exporter": "python",
   "pygments_lexer": "ipython3",
   "version": "3.11.7"
  }
 },
 "nbformat": 4,
 "nbformat_minor": 2
}
